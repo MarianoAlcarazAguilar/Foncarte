{
 "cells": [
  {
   "cell_type": "markdown",
   "id": "2dfafa69",
   "metadata": {},
   "source": [
    "# Auxiliar Web Scraping"
   ]
  },
  {
   "cell_type": "code",
   "execution_count": 1,
   "id": "46891adb",
   "metadata": {},
   "outputs": [],
   "source": [
    "from bs4 import BeautifulSoup\n",
    "import pandas as pd\n",
    "import numpy as np\n",
    "import requests\n",
    "import re"
   ]
  },
  {
   "cell_type": "code",
   "execution_count": 2,
   "id": "72a6c589",
   "metadata": {},
   "outputs": [],
   "source": [
    "obras = pd.read_csv('../datasets/obras_names_links.csv', header=None, names=['nombre'])\n",
    "obras = obras.nombre.values\n",
    "link_base = 'https://www.madart.com.mx/es/'"
   ]
  },
  {
   "cell_type": "code",
   "execution_count": 6,
   "id": "c12787fd",
   "metadata": {},
   "outputs": [],
   "source": [
    "obra = obras[0]\n",
    "link_obra = f'{link_base}{obra}'\n",
    "result = requests.get(link_obra).text\n",
    "doc = BeautifulSoup(result, \"html.parser\")\n",
    "datos_obra = doc.find(class_='obra_info')"
   ]
  },
  {
   "cell_type": "code",
   "execution_count": 7,
   "id": "a6d311e9",
   "metadata": {},
   "outputs": [],
   "source": [
    "nombre_obra = datos_obra.find(class_='obra_obra3').text\n",
    "artista = datos_obra.find(class_='obra_artista').text\n",
    "varios = datos_obra.find_all(class_='obra_dato')\n",
    "altura = varios[0].text.split()[0]\n",
    "ancho = varios[0].text.split()[2]\n",
    "tecnica = varios[1].text\n",
    "anio = varios[2].text\n",
    "precio = int(''.join(datos_obra.find(class_='obra_precio').text.split('$')[1].split(',')))\n",
    "# Formato del array: artista, nombre_obra, técnica, año, precio, altura, ancho\n",
    "datos_limpios = np.array((artista, nombre_obra, tecnica, anio, precio, altura, ancho))"
   ]
  },
  {
   "cell_type": "code",
   "execution_count": 8,
   "id": "06982349",
   "metadata": {},
   "outputs": [],
   "source": [
    "resultados = np.array(('artista', 'nombre_obra', 'tecnica', 'anio', 'precio', 'altura', 'ancho'))\n",
    "resultados = np.vstack((resultados, datos_limpios))"
   ]
  },
  {
   "cell_type": "code",
   "execution_count": 9,
   "id": "c01ac1ab",
   "metadata": {},
   "outputs": [
    {
     "data": {
      "text/html": [
       "<div>\n",
       "<style scoped>\n",
       "    .dataframe tbody tr th:only-of-type {\n",
       "        vertical-align: middle;\n",
       "    }\n",
       "\n",
       "    .dataframe tbody tr th {\n",
       "        vertical-align: top;\n",
       "    }\n",
       "\n",
       "    .dataframe thead th {\n",
       "        text-align: right;\n",
       "    }\n",
       "</style>\n",
       "<table border=\"1\" class=\"dataframe\">\n",
       "  <thead>\n",
       "    <tr style=\"text-align: right;\">\n",
       "      <th></th>\n",
       "      <th>artista</th>\n",
       "      <th>nombre_obra</th>\n",
       "      <th>tecnica</th>\n",
       "      <th>anio</th>\n",
       "      <th>precio</th>\n",
       "      <th>altura</th>\n",
       "      <th>ancho</th>\n",
       "    </tr>\n",
       "  </thead>\n",
       "  <tbody>\n",
       "    <tr>\n",
       "      <th>0</th>\n",
       "      <td>Emmanuel Serrano</td>\n",
       "      <td>Temple</td>\n",
       "      <td>Fumage</td>\n",
       "      <td>2022</td>\n",
       "      <td>65300</td>\n",
       "      <td>150</td>\n",
       "      <td>150</td>\n",
       "    </tr>\n",
       "  </tbody>\n",
       "</table>\n",
       "</div>"
      ],
      "text/plain": [
       "            artista nombre_obra tecnica  anio precio altura ancho\n",
       "0  Emmanuel Serrano      Temple  Fumage  2022  65300    150   150"
      ]
     },
     "execution_count": 9,
     "metadata": {},
     "output_type": "execute_result"
    }
   ],
   "source": [
    "pd.DataFrame(resultados[1:], columns=resultados[0])"
   ]
  },
  {
   "cell_type": "code",
   "execution_count": null,
   "id": "8db684a5",
   "metadata": {},
   "outputs": [],
   "source": []
  }
 ],
 "metadata": {
  "kernelspec": {
   "display_name": "Python 3 (ipykernel)",
   "language": "python",
   "name": "python3"
  },
  "language_info": {
   "codemirror_mode": {
    "name": "ipython",
    "version": 3
   },
   "file_extension": ".py",
   "mimetype": "text/x-python",
   "name": "python",
   "nbconvert_exporter": "python",
   "pygments_lexer": "ipython3",
   "version": "3.9.12"
  }
 },
 "nbformat": 4,
 "nbformat_minor": 5
}
