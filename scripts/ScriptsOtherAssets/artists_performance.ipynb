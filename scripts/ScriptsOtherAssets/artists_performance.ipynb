{
 "cells": [
  {
   "cell_type": "code",
   "execution_count": 1,
   "id": "bc5a98b6",
   "metadata": {},
   "outputs": [],
   "source": [
    "import pandas as pd\n",
    "import numpy as np\n",
    "import datetime as dt"
   ]
  },
  {
   "cell_type": "markdown",
   "id": "bff77ce3",
   "metadata": {},
   "source": [
    "## Falta:\n",
    "\n",
    "- calcular returns y volatility por cada artista\n",
    "  - idea: pasar art_aggs a formato wide (que cada columna sea un autor)\n",
    "- definir mejor asset allocation de cada artista\n",
    "  - excel si no ven como hacerlo aquí"
   ]
  },
  {
   "cell_type": "code",
   "execution_count": 2,
   "id": "1ebde076",
   "metadata": {},
   "outputs": [],
   "source": [
    "art = pd.read_csv('../../datasets/clean/clean_mut_art_ver2_ajustado.csv')"
   ]
  },
  {
   "cell_type": "code",
   "execution_count": 5,
   "id": "6c80a50b",
   "metadata": {},
   "outputs": [
    {
     "data": {
      "text/html": [
       "<div>\n",
       "<style scoped>\n",
       "    .dataframe tbody tr th:only-of-type {\n",
       "        vertical-align: middle;\n",
       "    }\n",
       "\n",
       "    .dataframe tbody tr th {\n",
       "        vertical-align: top;\n",
       "    }\n",
       "\n",
       "    .dataframe thead th {\n",
       "        text-align: right;\n",
       "    }\n",
       "</style>\n",
       "<table border=\"1\" class=\"dataframe\">\n",
       "  <thead>\n",
       "    <tr style=\"text-align: right;\">\n",
       "      <th></th>\n",
       "      <th>year-month</th>\n",
       "      <th>year</th>\n",
       "      <th>author</th>\n",
       "      <th>price</th>\n",
       "    </tr>\n",
       "  </thead>\n",
       "  <tbody>\n",
       "    <tr>\n",
       "      <th>3666</th>\n",
       "      <td>2022-9</td>\n",
       "      <td>2022</td>\n",
       "      <td>sergio rodrigues</td>\n",
       "      <td>NaN</td>\n",
       "    </tr>\n",
       "    <tr>\n",
       "      <th>3652</th>\n",
       "      <td>2022-9</td>\n",
       "      <td>2022</td>\n",
       "      <td>jesus-rafael soto</td>\n",
       "      <td>373.500000</td>\n",
       "    </tr>\n",
       "    <tr>\n",
       "      <th>3639</th>\n",
       "      <td>2022-9</td>\n",
       "      <td>2022</td>\n",
       "      <td>carlos orozco romero</td>\n",
       "      <td>697.000000</td>\n",
       "    </tr>\n",
       "    <tr>\n",
       "      <th>3640</th>\n",
       "      <td>2022-9</td>\n",
       "      <td>2022</td>\n",
       "      <td>césar izquierdo</td>\n",
       "      <td>NaN</td>\n",
       "    </tr>\n",
       "    <tr>\n",
       "      <th>3641</th>\n",
       "      <td>2022-9</td>\n",
       "      <td>2022</td>\n",
       "      <td>daniel evo</td>\n",
       "      <td>274.000000</td>\n",
       "    </tr>\n",
       "    <tr>\n",
       "      <th>...</th>\n",
       "      <td>...</td>\n",
       "      <td>...</td>\n",
       "      <td>...</td>\n",
       "      <td>...</td>\n",
       "    </tr>\n",
       "    <tr>\n",
       "      <th>2</th>\n",
       "      <td>1998-10</td>\n",
       "      <td>1998</td>\n",
       "      <td>federico del campo</td>\n",
       "      <td>89125.000000</td>\n",
       "    </tr>\n",
       "    <tr>\n",
       "      <th>1</th>\n",
       "      <td>1998-10</td>\n",
       "      <td>1998</td>\n",
       "      <td>diego rivera</td>\n",
       "      <td>25073.000000</td>\n",
       "    </tr>\n",
       "    <tr>\n",
       "      <th>4</th>\n",
       "      <td>1998-10</td>\n",
       "      <td>1998</td>\n",
       "      <td>rodolfo amoedo</td>\n",
       "      <td>16189.000000</td>\n",
       "    </tr>\n",
       "    <tr>\n",
       "      <th>5</th>\n",
       "      <td>1998-10</td>\n",
       "      <td>1998</td>\n",
       "      <td>rufino tamayo</td>\n",
       "      <td>6059.666667</td>\n",
       "    </tr>\n",
       "    <tr>\n",
       "      <th>0</th>\n",
       "      <td>1998-1</td>\n",
       "      <td>1998</td>\n",
       "      <td>julio montenegro</td>\n",
       "      <td>2558.000000</td>\n",
       "    </tr>\n",
       "  </tbody>\n",
       "</table>\n",
       "<p>3667 rows × 4 columns</p>\n",
       "</div>"
      ],
      "text/plain": [
       "     year-month  year                 author         price\n",
       "3666     2022-9  2022       sergio rodrigues           NaN\n",
       "3652     2022-9  2022      jesus-rafael soto    373.500000\n",
       "3639     2022-9  2022   carlos orozco romero    697.000000\n",
       "3640     2022-9  2022        césar izquierdo           NaN\n",
       "3641     2022-9  2022             daniel evo    274.000000\n",
       "...         ...   ...                    ...           ...\n",
       "2       1998-10  1998     federico del campo  89125.000000\n",
       "1       1998-10  1998           diego rivera  25073.000000\n",
       "4       1998-10  1998         rodolfo amoedo  16189.000000\n",
       "5       1998-10  1998          rufino tamayo   6059.666667\n",
       "0        1998-1  1998       julio montenegro   2558.000000\n",
       "\n",
       "[3667 rows x 4 columns]"
      ]
     },
     "execution_count": 5,
     "metadata": {},
     "output_type": "execute_result"
    }
   ],
   "source": [
    "#calculate anual return of latam art (diferencia de precio promedio por mes)\n",
    "art['fecha'] = pd.to_datetime(art['fecha'])\n",
    "art['year'] = art.fecha.dt.year\n",
    "art['month'] = art.fecha.dt.month\n",
    "\n",
    "art['year-month'] = art['year'].astype(str)+'-'+art['month'].astype(str)\n",
    "\n",
    "art_aggs = art.groupby(by=['year-month', 'year', 'author'])['price'].mean().reset_index().sort_values(by='year-month', ascending=False)#by='title', ascending=False).head(30)\n",
    "\n",
    "art_aggs\n",
    "\n",
    "\n",
    "art_aggs"
   ]
  },
  {
   "cell_type": "code",
   "execution_count": null,
   "id": "9c826ceb",
   "metadata": {},
   "outputs": [],
   "source": [
    "#ejemplo para calcular returns\n",
    "\n",
    "#habría que hacer para cada autor\n",
    "#art_aggs['past_close'] = art_aggs['price'].shift(-1)\n",
    "#art_aggs['returns'] = ((art_aggs['price']-art_aggs['past_close'])/art_aggs['past_close'])/100"
   ]
  },
  {
   "cell_type": "code",
   "execution_count": null,
   "id": "da960120",
   "metadata": {},
   "outputs": [],
   "source": [
    "#sacar return de cada autor\n",
    "#  art_means = art_aggs.returns.mean()*12*100\n",
    "#  art_vars = (art_aggs.returns.var()*12)**0.5\n"
   ]
  },
  {
   "cell_type": "code",
   "execution_count": null,
   "id": "907f93ba",
   "metadata": {},
   "outputs": [],
   "source": [
    "#gráfica\n",
    "#df.scatter(x='volatility', y='returns', marker='o', s=10, grid=True, figsize=[10,10])"
   ]
  },
  {
   "cell_type": "code",
   "execution_count": null,
   "id": "e582aafb",
   "metadata": {},
   "outputs": [],
   "source": [
    "#asset allocation\n"
   ]
  },
  {
   "cell_type": "code",
   "execution_count": null,
   "id": "4c1862d3",
   "metadata": {},
   "outputs": [],
   "source": []
  }
 ],
 "metadata": {
  "kernelspec": {
   "display_name": "Python 3 (ipykernel)",
   "language": "python",
   "name": "python3"
  },
  "language_info": {
   "codemirror_mode": {
    "name": "ipython",
    "version": 3
   },
   "file_extension": ".py",
   "mimetype": "text/x-python",
   "name": "python",
   "nbconvert_exporter": "python",
   "pygments_lexer": "ipython3",
   "version": "3.10.7"
  }
 },
 "nbformat": 4,
 "nbformat_minor": 5
}
