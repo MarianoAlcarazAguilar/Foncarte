{
 "cells": [
  {
   "cell_type": "code",
   "execution_count": 4,
   "id": "d7821a1a",
   "metadata": {},
   "outputs": [],
   "source": [
    "import pandas as pd\n",
    "import numpy as np\n",
    "import matplotlib.pyplot as plt\n",
    "import pandas_datareader as web"
   ]
  },
  {
   "cell_type": "code",
   "execution_count": 6,
   "id": "7a863fbd",
   "metadata": {},
   "outputs": [],
   "source": [
    "Bonds_3_months=pd.read_csv('TB3MS.csv')  "
   ]
  },
  {
   "cell_type": "code",
   "execution_count": 7,
   "id": "eb52645f",
   "metadata": {},
   "outputs": [
    {
     "name": "stdout",
     "output_type": "stream",
     "text": [
      "<class 'pandas.core.frame.DataFrame'>\n",
      "RangeIndex: 1065 entries, 0 to 1064\n",
      "Data columns (total 2 columns):\n",
      " #   Column  Non-Null Count  Dtype  \n",
      "---  ------  --------------  -----  \n",
      " 0   DATE    1065 non-null   object \n",
      " 1   TB3MS   1065 non-null   float64\n",
      "dtypes: float64(1), object(1)\n",
      "memory usage: 16.8+ KB\n"
     ]
    }
   ],
   "source": [
    "Bonds_3_months.info()"
   ]
  },
  {
   "cell_type": "code",
   "execution_count": 8,
   "id": "d0b8cf82",
   "metadata": {},
   "outputs": [
    {
     "data": {
      "text/html": [
       "<div>\n",
       "<style scoped>\n",
       "    .dataframe tbody tr th:only-of-type {\n",
       "        vertical-align: middle;\n",
       "    }\n",
       "\n",
       "    .dataframe tbody tr th {\n",
       "        vertical-align: top;\n",
       "    }\n",
       "\n",
       "    .dataframe thead th {\n",
       "        text-align: right;\n",
       "    }\n",
       "</style>\n",
       "<table border=\"1\" class=\"dataframe\">\n",
       "  <thead>\n",
       "    <tr style=\"text-align: right;\">\n",
       "      <th></th>\n",
       "      <th>DATE</th>\n",
       "      <th>TB3MS</th>\n",
       "    </tr>\n",
       "  </thead>\n",
       "  <tbody>\n",
       "    <tr>\n",
       "      <th>0</th>\n",
       "      <td>1934-01-01</td>\n",
       "      <td>0.72</td>\n",
       "    </tr>\n",
       "    <tr>\n",
       "      <th>1</th>\n",
       "      <td>1934-02-01</td>\n",
       "      <td>0.62</td>\n",
       "    </tr>\n",
       "    <tr>\n",
       "      <th>2</th>\n",
       "      <td>1934-03-01</td>\n",
       "      <td>0.24</td>\n",
       "    </tr>\n",
       "    <tr>\n",
       "      <th>3</th>\n",
       "      <td>1934-04-01</td>\n",
       "      <td>0.15</td>\n",
       "    </tr>\n",
       "    <tr>\n",
       "      <th>4</th>\n",
       "      <td>1934-05-01</td>\n",
       "      <td>0.16</td>\n",
       "    </tr>\n",
       "    <tr>\n",
       "      <th>...</th>\n",
       "      <td>...</td>\n",
       "      <td>...</td>\n",
       "    </tr>\n",
       "    <tr>\n",
       "      <th>1060</th>\n",
       "      <td>2022-05-01</td>\n",
       "      <td>0.98</td>\n",
       "    </tr>\n",
       "    <tr>\n",
       "      <th>1061</th>\n",
       "      <td>2022-06-01</td>\n",
       "      <td>1.49</td>\n",
       "    </tr>\n",
       "    <tr>\n",
       "      <th>1062</th>\n",
       "      <td>2022-07-01</td>\n",
       "      <td>2.23</td>\n",
       "    </tr>\n",
       "    <tr>\n",
       "      <th>1063</th>\n",
       "      <td>2022-08-01</td>\n",
       "      <td>2.63</td>\n",
       "    </tr>\n",
       "    <tr>\n",
       "      <th>1064</th>\n",
       "      <td>2022-09-01</td>\n",
       "      <td>3.13</td>\n",
       "    </tr>\n",
       "  </tbody>\n",
       "</table>\n",
       "<p>1065 rows × 2 columns</p>\n",
       "</div>"
      ],
      "text/plain": [
       "            DATE  TB3MS\n",
       "0     1934-01-01   0.72\n",
       "1     1934-02-01   0.62\n",
       "2     1934-03-01   0.24\n",
       "3     1934-04-01   0.15\n",
       "4     1934-05-01   0.16\n",
       "...          ...    ...\n",
       "1060  2022-05-01   0.98\n",
       "1061  2022-06-01   1.49\n",
       "1062  2022-07-01   2.23\n",
       "1063  2022-08-01   2.63\n",
       "1064  2022-09-01   3.13\n",
       "\n",
       "[1065 rows x 2 columns]"
      ]
     },
     "execution_count": 8,
     "metadata": {},
     "output_type": "execute_result"
    }
   ],
   "source": [
    "Bonds_3_months"
   ]
  },
  {
   "cell_type": "code",
   "execution_count": 9,
   "id": "1d0fec05",
   "metadata": {},
   "outputs": [],
   "source": [
    "returns = Bonds_3_months.iloc[:,1].pct_change()"
   ]
  },
  {
   "cell_type": "code",
   "execution_count": 10,
   "id": "207b3ce8",
   "metadata": {},
   "outputs": [],
   "source": [
    "Bonds_3_months['returns']=returns"
   ]
  },
  {
   "cell_type": "code",
   "execution_count": 11,
   "id": "fcad667b",
   "metadata": {},
   "outputs": [
    {
     "data": {
      "text/html": [
       "<div>\n",
       "<style scoped>\n",
       "    .dataframe tbody tr th:only-of-type {\n",
       "        vertical-align: middle;\n",
       "    }\n",
       "\n",
       "    .dataframe tbody tr th {\n",
       "        vertical-align: top;\n",
       "    }\n",
       "\n",
       "    .dataframe thead th {\n",
       "        text-align: right;\n",
       "    }\n",
       "</style>\n",
       "<table border=\"1\" class=\"dataframe\">\n",
       "  <thead>\n",
       "    <tr style=\"text-align: right;\">\n",
       "      <th></th>\n",
       "      <th>DATE</th>\n",
       "      <th>TB3MS</th>\n",
       "      <th>returns</th>\n",
       "    </tr>\n",
       "  </thead>\n",
       "  <tbody>\n",
       "    <tr>\n",
       "      <th>0</th>\n",
       "      <td>1934-01-01</td>\n",
       "      <td>0.72</td>\n",
       "      <td>NaN</td>\n",
       "    </tr>\n",
       "    <tr>\n",
       "      <th>1</th>\n",
       "      <td>1934-02-01</td>\n",
       "      <td>0.62</td>\n",
       "      <td>-0.138889</td>\n",
       "    </tr>\n",
       "    <tr>\n",
       "      <th>2</th>\n",
       "      <td>1934-03-01</td>\n",
       "      <td>0.24</td>\n",
       "      <td>-0.612903</td>\n",
       "    </tr>\n",
       "    <tr>\n",
       "      <th>3</th>\n",
       "      <td>1934-04-01</td>\n",
       "      <td>0.15</td>\n",
       "      <td>-0.375000</td>\n",
       "    </tr>\n",
       "    <tr>\n",
       "      <th>4</th>\n",
       "      <td>1934-05-01</td>\n",
       "      <td>0.16</td>\n",
       "      <td>0.066667</td>\n",
       "    </tr>\n",
       "    <tr>\n",
       "      <th>...</th>\n",
       "      <td>...</td>\n",
       "      <td>...</td>\n",
       "      <td>...</td>\n",
       "    </tr>\n",
       "    <tr>\n",
       "      <th>1060</th>\n",
       "      <td>2022-05-01</td>\n",
       "      <td>0.98</td>\n",
       "      <td>0.289474</td>\n",
       "    </tr>\n",
       "    <tr>\n",
       "      <th>1061</th>\n",
       "      <td>2022-06-01</td>\n",
       "      <td>1.49</td>\n",
       "      <td>0.520408</td>\n",
       "    </tr>\n",
       "    <tr>\n",
       "      <th>1062</th>\n",
       "      <td>2022-07-01</td>\n",
       "      <td>2.23</td>\n",
       "      <td>0.496644</td>\n",
       "    </tr>\n",
       "    <tr>\n",
       "      <th>1063</th>\n",
       "      <td>2022-08-01</td>\n",
       "      <td>2.63</td>\n",
       "      <td>0.179372</td>\n",
       "    </tr>\n",
       "    <tr>\n",
       "      <th>1064</th>\n",
       "      <td>2022-09-01</td>\n",
       "      <td>3.13</td>\n",
       "      <td>0.190114</td>\n",
       "    </tr>\n",
       "  </tbody>\n",
       "</table>\n",
       "<p>1065 rows × 3 columns</p>\n",
       "</div>"
      ],
      "text/plain": [
       "            DATE  TB3MS   returns\n",
       "0     1934-01-01   0.72       NaN\n",
       "1     1934-02-01   0.62 -0.138889\n",
       "2     1934-03-01   0.24 -0.612903\n",
       "3     1934-04-01   0.15 -0.375000\n",
       "4     1934-05-01   0.16  0.066667\n",
       "...          ...    ...       ...\n",
       "1060  2022-05-01   0.98  0.289474\n",
       "1061  2022-06-01   1.49  0.520408\n",
       "1062  2022-07-01   2.23  0.496644\n",
       "1063  2022-08-01   2.63  0.179372\n",
       "1064  2022-09-01   3.13  0.190114\n",
       "\n",
       "[1065 rows x 3 columns]"
      ]
     },
     "execution_count": 11,
     "metadata": {},
     "output_type": "execute_result"
    }
   ],
   "source": [
    "Bonds_3_months"
   ]
  },
  {
   "cell_type": "code",
   "execution_count": 12,
   "id": "4fd7e7a8",
   "metadata": {},
   "outputs": [
    {
     "data": {
      "text/plain": [
       "<AxesSubplot:title={'center':'Treasury Bonds 3-months returns'}>"
      ]
     },
     "execution_count": 12,
     "metadata": {},
     "output_type": "execute_result"
    },
    {
     "data": {
      "image/png": "[encoded data removed]",
      "text/plain": [
       "<Figure size 432x288 with 1 Axes>"
      ]
     },
     "metadata": {
      "needs_background": "light"
     },
     "output_type": "display_data"
    }
   ],
   "source": [
    "Bonds_3_months['returns'].plot(title='Treasury Bonds 3-months returns')"
   ]
  },
  {
   "cell_type": "code",
   "execution_count": 14,
   "id": "bd20ac0c",
   "metadata": {},
   "outputs": [
    {
     "data": {
      "text/plain": [
       "<AxesSubplot:title={'center':'Treasury Bonds 3-months Rates'}>"
      ]
     },
     "execution_count": 14,
     "metadata": {},
     "output_type": "execute_result"
    },
    {
     "data": {
      "image/png": "[encoded data removed]",
      "text/plain": [
       "<Figure size 432x288 with 1 Axes>"
      ]
     },
     "metadata": {
      "needs_background": "light"
     },
     "output_type": "display_data"
    }
   ],
   "source": [
    "Bonds_3_months['TB3MS'].plot(title='Treasury Bonds 3-months Rates')"
   ]
  },
  {
   "cell_type": "code",
   "execution_count": 15,
   "id": "f912dc24",
   "metadata": {},
   "outputs": [],
   "source": [
    "Bonds_3_months.to_csv('../Bonds_3_months.csv',header=True,index=False)"
   ]
  }
 ],
 "metadata": {
  "kernelspec": {
   "display_name": "Python 3 (ipykernel)",
   "language": "python",
   "name": "python3"
  },
  "language_info": {
   "codemirror_mode": {
    "name": "ipython",
    "version": 3
   },
   "file_extension": ".py",
   "mimetype": "text/x-python",
   "name": "python",
   "nbconvert_exporter": "python",
   "pygments_lexer": "ipython3",
   "version": "3.9.7"
  }
 },
 "nbformat": 4,
 "nbformat_minor": 5
}
