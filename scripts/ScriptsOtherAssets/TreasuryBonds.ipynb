{
 "cells": [
  {
   "cell_type": "code",
   "execution_count": 1,
   "id": "e893ee72",
   "metadata": {},
   "outputs": [],
   "source": [
    "import pandas as pd\n",
    "import numpy as np\n",
    "import matplotlib.pyplot as plt\n",
    "import pandas_datareader as web"
   ]
  },
  {
   "cell_type": "code",
   "execution_count": 8,
   "id": "8c70e0be",
   "metadata": {},
   "outputs": [],
   "source": [
    "Bonds_1=pd.read_csv('1-year-treasury-rate-yield-chart.csv')  \n",
    "Bonds_10=pd.read_csv('10-year-treasury-bond-rate-yield-chart.csv')  \n",
    "Bonds_30=pd.read_csv('30-year-treasury-bond-rate-yield-chart.csv')  "
   ]
  },
  {
   "cell_type": "code",
   "execution_count": 18,
   "id": "b2bde5f6",
   "metadata": {},
   "outputs": [
    {
     "data": {
      "text/html": [
       "<div>\n",
       "<style scoped>\n",
       "    .dataframe tbody tr th:only-of-type {\n",
       "        vertical-align: middle;\n",
       "    }\n",
       "\n",
       "    .dataframe tbody tr th {\n",
       "        vertical-align: top;\n",
       "    }\n",
       "\n",
       "    .dataframe thead th {\n",
       "        text-align: right;\n",
       "    }\n",
       "</style>\n",
       "<table border=\"1\" class=\"dataframe\">\n",
       "  <thead>\n",
       "    <tr style=\"text-align: right;\">\n",
       "      <th></th>\n",
       "      <th>date</th>\n",
       "      <th>value</th>\n",
       "    </tr>\n",
       "  </thead>\n",
       "  <tbody>\n",
       "    <tr>\n",
       "      <th>0</th>\n",
       "      <td>02/01/1962</td>\n",
       "      <td>3.22</td>\n",
       "    </tr>\n",
       "    <tr>\n",
       "      <th>1</th>\n",
       "      <td>03/01/1962</td>\n",
       "      <td>3.24</td>\n",
       "    </tr>\n",
       "    <tr>\n",
       "      <th>2</th>\n",
       "      <td>04/01/1962</td>\n",
       "      <td>3.24</td>\n",
       "    </tr>\n",
       "    <tr>\n",
       "      <th>3</th>\n",
       "      <td>05/01/1962</td>\n",
       "      <td>3.26</td>\n",
       "    </tr>\n",
       "    <tr>\n",
       "      <th>4</th>\n",
       "      <td>08/01/1962</td>\n",
       "      <td>3.31</td>\n",
       "    </tr>\n",
       "    <tr>\n",
       "      <th>...</th>\n",
       "      <td>...</td>\n",
       "      <td>...</td>\n",
       "    </tr>\n",
       "    <tr>\n",
       "      <th>15217</th>\n",
       "      <td>30/10/2022</td>\n",
       "      <td>NaN</td>\n",
       "    </tr>\n",
       "    <tr>\n",
       "      <th>15218</th>\n",
       "      <td>31/10/2022</td>\n",
       "      <td>NaN</td>\n",
       "    </tr>\n",
       "    <tr>\n",
       "      <th>15219</th>\n",
       "      <td>01/11/2022</td>\n",
       "      <td>NaN</td>\n",
       "    </tr>\n",
       "    <tr>\n",
       "      <th>15220</th>\n",
       "      <td>02/11/2022</td>\n",
       "      <td>NaN</td>\n",
       "    </tr>\n",
       "    <tr>\n",
       "      <th>15221</th>\n",
       "      <td>03/11/2022</td>\n",
       "      <td>NaN</td>\n",
       "    </tr>\n",
       "  </tbody>\n",
       "</table>\n",
       "<p>15222 rows × 2 columns</p>\n",
       "</div>"
      ],
      "text/plain": [
       "             date   value\n",
       "0      02/01/1962    3.22\n",
       "1      03/01/1962    3.24\n",
       "2      04/01/1962    3.24\n",
       "3      05/01/1962    3.26\n",
       "4      08/01/1962    3.31\n",
       "...           ...     ...\n",
       "15217  30/10/2022     NaN\n",
       "15218  31/10/2022     NaN\n",
       "15219  01/11/2022     NaN\n",
       "15220  02/11/2022     NaN\n",
       "15221  03/11/2022     NaN\n",
       "\n",
       "[15222 rows x 2 columns]"
      ]
     },
     "execution_count": 18,
     "metadata": {},
     "output_type": "execute_result"
    }
   ],
   "source": [
    "Bonds_1"
   ]
  },
  {
   "cell_type": "code",
   "execution_count": 34,
   "id": "0324f81f",
   "metadata": {},
   "outputs": [],
   "source": [
    "B1returns = Bonds_1.iloc[:,1].pct_change()\n",
    "B10returns = Bonds_10.iloc[:,1].pct_change()\n",
    "B30returns = Bonds_30.iloc[:,1].pct_change()"
   ]
  },
  {
   "cell_type": "code",
   "execution_count": 35,
   "id": "4fd54aa1",
   "metadata": {},
   "outputs": [],
   "source": [
    "Bonds_1['returns']=B1returns\n",
    "Bonds_10['returns']=B10returns\n",
    "Bonds_30['returns']=B30returns"
   ]
  },
  {
   "cell_type": "code",
   "execution_count": 31,
   "id": "6ee009c1",
   "metadata": {},
   "outputs": [
    {
     "data": {
      "text/html": [
       "<div>\n",
       "<style scoped>\n",
       "    .dataframe tbody tr th:only-of-type {\n",
       "        vertical-align: middle;\n",
       "    }\n",
       "\n",
       "    .dataframe tbody tr th {\n",
       "        vertical-align: top;\n",
       "    }\n",
       "\n",
       "    .dataframe thead th {\n",
       "        text-align: right;\n",
       "    }\n",
       "</style>\n",
       "<table border=\"1\" class=\"dataframe\">\n",
       "  <thead>\n",
       "    <tr style=\"text-align: right;\">\n",
       "      <th></th>\n",
       "      <th>date</th>\n",
       "      <th>value</th>\n",
       "      <th>returns</th>\n",
       "    </tr>\n",
       "  </thead>\n",
       "  <tbody>\n",
       "    <tr>\n",
       "      <th>0</th>\n",
       "      <td>02/01/1962</td>\n",
       "      <td>3.22</td>\n",
       "      <td>NaN</td>\n",
       "    </tr>\n",
       "    <tr>\n",
       "      <th>1</th>\n",
       "      <td>03/01/1962</td>\n",
       "      <td>3.24</td>\n",
       "      <td>0.006211</td>\n",
       "    </tr>\n",
       "    <tr>\n",
       "      <th>2</th>\n",
       "      <td>04/01/1962</td>\n",
       "      <td>3.24</td>\n",
       "      <td>0.000000</td>\n",
       "    </tr>\n",
       "    <tr>\n",
       "      <th>3</th>\n",
       "      <td>05/01/1962</td>\n",
       "      <td>3.26</td>\n",
       "      <td>0.006173</td>\n",
       "    </tr>\n",
       "    <tr>\n",
       "      <th>4</th>\n",
       "      <td>08/01/1962</td>\n",
       "      <td>3.31</td>\n",
       "      <td>0.015337</td>\n",
       "    </tr>\n",
       "    <tr>\n",
       "      <th>...</th>\n",
       "      <td>...</td>\n",
       "      <td>...</td>\n",
       "      <td>...</td>\n",
       "    </tr>\n",
       "    <tr>\n",
       "      <th>15217</th>\n",
       "      <td>30/10/2022</td>\n",
       "      <td>NaN</td>\n",
       "      <td>0.000000</td>\n",
       "    </tr>\n",
       "    <tr>\n",
       "      <th>15218</th>\n",
       "      <td>31/10/2022</td>\n",
       "      <td>NaN</td>\n",
       "      <td>0.000000</td>\n",
       "    </tr>\n",
       "    <tr>\n",
       "      <th>15219</th>\n",
       "      <td>01/11/2022</td>\n",
       "      <td>NaN</td>\n",
       "      <td>0.000000</td>\n",
       "    </tr>\n",
       "    <tr>\n",
       "      <th>15220</th>\n",
       "      <td>02/11/2022</td>\n",
       "      <td>NaN</td>\n",
       "      <td>0.000000</td>\n",
       "    </tr>\n",
       "    <tr>\n",
       "      <th>15221</th>\n",
       "      <td>03/11/2022</td>\n",
       "      <td>NaN</td>\n",
       "      <td>0.000000</td>\n",
       "    </tr>\n",
       "  </tbody>\n",
       "</table>\n",
       "<p>15222 rows × 3 columns</p>\n",
       "</div>"
      ],
      "text/plain": [
       "             date   value   returns\n",
       "0      02/01/1962    3.22       NaN\n",
       "1      03/01/1962    3.24  0.006211\n",
       "2      04/01/1962    3.24  0.000000\n",
       "3      05/01/1962    3.26  0.006173\n",
       "4      08/01/1962    3.31  0.015337\n",
       "...           ...     ...       ...\n",
       "15217  30/10/2022     NaN  0.000000\n",
       "15218  31/10/2022     NaN  0.000000\n",
       "15219  01/11/2022     NaN  0.000000\n",
       "15220  02/11/2022     NaN  0.000000\n",
       "15221  03/11/2022     NaN  0.000000\n",
       "\n",
       "[15222 rows x 3 columns]"
      ]
     },
     "execution_count": 31,
     "metadata": {},
     "output_type": "execute_result"
    }
   ],
   "source": [
    "Bonds_1"
   ]
  },
  {
   "cell_type": "code",
   "execution_count": 37,
   "id": "91c968f6",
   "metadata": {},
   "outputs": [
    {
     "data": {
      "text/html": [
       "<div>\n",
       "<style scoped>\n",
       "    .dataframe tbody tr th:only-of-type {\n",
       "        vertical-align: middle;\n",
       "    }\n",
       "\n",
       "    .dataframe tbody tr th {\n",
       "        vertical-align: top;\n",
       "    }\n",
       "\n",
       "    .dataframe thead th {\n",
       "        text-align: right;\n",
       "    }\n",
       "</style>\n",
       "<table border=\"1\" class=\"dataframe\">\n",
       "  <thead>\n",
       "    <tr style=\"text-align: right;\">\n",
       "      <th></th>\n",
       "      <th>date</th>\n",
       "      <th>value</th>\n",
       "      <th>returns</th>\n",
       "    </tr>\n",
       "  </thead>\n",
       "  <tbody>\n",
       "    <tr>\n",
       "      <th>0</th>\n",
       "      <td>02/01/1962</td>\n",
       "      <td>4.06</td>\n",
       "      <td>NaN</td>\n",
       "    </tr>\n",
       "    <tr>\n",
       "      <th>1</th>\n",
       "      <td>03/01/1962</td>\n",
       "      <td>4.03</td>\n",
       "      <td>-0.007389</td>\n",
       "    </tr>\n",
       "    <tr>\n",
       "      <th>2</th>\n",
       "      <td>04/01/1962</td>\n",
       "      <td>3.99</td>\n",
       "      <td>-0.009926</td>\n",
       "    </tr>\n",
       "    <tr>\n",
       "      <th>3</th>\n",
       "      <td>05/01/1962</td>\n",
       "      <td>4.02</td>\n",
       "      <td>0.007519</td>\n",
       "    </tr>\n",
       "    <tr>\n",
       "      <th>4</th>\n",
       "      <td>08/01/1962</td>\n",
       "      <td>4.03</td>\n",
       "      <td>0.002488</td>\n",
       "    </tr>\n",
       "    <tr>\n",
       "      <th>...</th>\n",
       "      <td>...</td>\n",
       "      <td>...</td>\n",
       "      <td>...</td>\n",
       "    </tr>\n",
       "    <tr>\n",
       "      <th>15216</th>\n",
       "      <td>30/10/2022</td>\n",
       "      <td>NaN</td>\n",
       "      <td>0.000000</td>\n",
       "    </tr>\n",
       "    <tr>\n",
       "      <th>15217</th>\n",
       "      <td>31/10/2022</td>\n",
       "      <td>NaN</td>\n",
       "      <td>0.000000</td>\n",
       "    </tr>\n",
       "    <tr>\n",
       "      <th>15218</th>\n",
       "      <td>01/11/2022</td>\n",
       "      <td>NaN</td>\n",
       "      <td>0.000000</td>\n",
       "    </tr>\n",
       "    <tr>\n",
       "      <th>15219</th>\n",
       "      <td>02/11/2022</td>\n",
       "      <td>NaN</td>\n",
       "      <td>0.000000</td>\n",
       "    </tr>\n",
       "    <tr>\n",
       "      <th>15220</th>\n",
       "      <td>03/11/2022</td>\n",
       "      <td>NaN</td>\n",
       "      <td>0.000000</td>\n",
       "    </tr>\n",
       "  </tbody>\n",
       "</table>\n",
       "<p>15221 rows × 3 columns</p>\n",
       "</div>"
      ],
      "text/plain": [
       "             date   value   returns\n",
       "0      02/01/1962    4.06       NaN\n",
       "1      03/01/1962    4.03 -0.007389\n",
       "2      04/01/1962    3.99 -0.009926\n",
       "3      05/01/1962    4.02  0.007519\n",
       "4      08/01/1962    4.03  0.002488\n",
       "...           ...     ...       ...\n",
       "15216  30/10/2022     NaN  0.000000\n",
       "15217  31/10/2022     NaN  0.000000\n",
       "15218  01/11/2022     NaN  0.000000\n",
       "15219  02/11/2022     NaN  0.000000\n",
       "15220  03/11/2022     NaN  0.000000\n",
       "\n",
       "[15221 rows x 3 columns]"
      ]
     },
     "execution_count": 37,
     "metadata": {},
     "output_type": "execute_result"
    }
   ],
   "source": [
    "Bonds_10"
   ]
  },
  {
   "cell_type": "code",
   "execution_count": 38,
   "id": "e86215ac",
   "metadata": {},
   "outputs": [
    {
     "data": {
      "text/html": [
       "<div>\n",
       "<style scoped>\n",
       "    .dataframe tbody tr th:only-of-type {\n",
       "        vertical-align: middle;\n",
       "    }\n",
       "\n",
       "    .dataframe tbody tr th {\n",
       "        vertical-align: top;\n",
       "    }\n",
       "\n",
       "    .dataframe thead th {\n",
       "        text-align: right;\n",
       "    }\n",
       "</style>\n",
       "<table border=\"1\" class=\"dataframe\">\n",
       "  <thead>\n",
       "    <tr style=\"text-align: right;\">\n",
       "      <th></th>\n",
       "      <th>date</th>\n",
       "      <th>value</th>\n",
       "      <th>returns</th>\n",
       "    </tr>\n",
       "  </thead>\n",
       "  <tbody>\n",
       "    <tr>\n",
       "      <th>0</th>\n",
       "      <td>15/02/1977</td>\n",
       "      <td>7.70</td>\n",
       "      <td>NaN</td>\n",
       "    </tr>\n",
       "    <tr>\n",
       "      <th>1</th>\n",
       "      <td>16/02/1977</td>\n",
       "      <td>7.67</td>\n",
       "      <td>-0.003896</td>\n",
       "    </tr>\n",
       "    <tr>\n",
       "      <th>2</th>\n",
       "      <td>17/02/1977</td>\n",
       "      <td>7.67</td>\n",
       "      <td>0.000000</td>\n",
       "    </tr>\n",
       "    <tr>\n",
       "      <th>3</th>\n",
       "      <td>18/02/1977</td>\n",
       "      <td>7.76</td>\n",
       "      <td>0.011734</td>\n",
       "    </tr>\n",
       "    <tr>\n",
       "      <th>4</th>\n",
       "      <td>22/02/1977</td>\n",
       "      <td>7.77</td>\n",
       "      <td>0.001289</td>\n",
       "    </tr>\n",
       "    <tr>\n",
       "      <th>...</th>\n",
       "      <td>...</td>\n",
       "      <td>...</td>\n",
       "      <td>...</td>\n",
       "    </tr>\n",
       "    <tr>\n",
       "      <th>10451</th>\n",
       "      <td>30/10/2022</td>\n",
       "      <td>NaN</td>\n",
       "      <td>0.000000</td>\n",
       "    </tr>\n",
       "    <tr>\n",
       "      <th>10452</th>\n",
       "      <td>31/10/2022</td>\n",
       "      <td>NaN</td>\n",
       "      <td>0.000000</td>\n",
       "    </tr>\n",
       "    <tr>\n",
       "      <th>10453</th>\n",
       "      <td>01/11/2022</td>\n",
       "      <td>NaN</td>\n",
       "      <td>0.000000</td>\n",
       "    </tr>\n",
       "    <tr>\n",
       "      <th>10454</th>\n",
       "      <td>02/11/2022</td>\n",
       "      <td>NaN</td>\n",
       "      <td>0.000000</td>\n",
       "    </tr>\n",
       "    <tr>\n",
       "      <th>10455</th>\n",
       "      <td>03/11/2022</td>\n",
       "      <td>NaN</td>\n",
       "      <td>0.000000</td>\n",
       "    </tr>\n",
       "  </tbody>\n",
       "</table>\n",
       "<p>10456 rows × 3 columns</p>\n",
       "</div>"
      ],
      "text/plain": [
       "             date   value   returns\n",
       "0      15/02/1977    7.70       NaN\n",
       "1      16/02/1977    7.67 -0.003896\n",
       "2      17/02/1977    7.67  0.000000\n",
       "3      18/02/1977    7.76  0.011734\n",
       "4      22/02/1977    7.77  0.001289\n",
       "...           ...     ...       ...\n",
       "10451  30/10/2022     NaN  0.000000\n",
       "10452  31/10/2022     NaN  0.000000\n",
       "10453  01/11/2022     NaN  0.000000\n",
       "10454  02/11/2022     NaN  0.000000\n",
       "10455  03/11/2022     NaN  0.000000\n",
       "\n",
       "[10456 rows x 3 columns]"
      ]
     },
     "execution_count": 38,
     "metadata": {},
     "output_type": "execute_result"
    }
   ],
   "source": [
    "Bonds_30"
   ]
  },
  {
   "cell_type": "code",
   "execution_count": 39,
   "id": "cac906f2",
   "metadata": {},
   "outputs": [
    {
     "data": {
      "text/plain": [
       "<AxesSubplot:title={'center':'Treasury Bonds 1-year returns'}>"
      ]
     },
     "execution_count": 39,
     "metadata": {},
     "output_type": "execute_result"
    },
    {
     "data": {
      "image/png": "[encoded data removed]",
      "text/plain": [
       "<Figure size 432x288 with 1 Axes>"
      ]
     },
     "metadata": {
      "needs_background": "light"
     },
     "output_type": "display_data"
    }
   ],
   "source": [
    "Bonds_1['returns'].plot(title='Treasury Bonds 1-year returns')"
   ]
  },
  {
   "cell_type": "code",
   "execution_count": 46,
   "id": "90dcea68",
   "metadata": {},
   "outputs": [
    {
     "data": {
      "text/plain": [
       "<AxesSubplot:title={'center':'Treasury Bonds 10-year returns'}>"
      ]
     },
     "execution_count": 46,
     "metadata": {},
     "output_type": "execute_result"
    },
    {
     "data": {
      "image/png": "[encoded data removed]",
      "text/plain": [
       "<Figure size 432x288 with 1 Axes>"
      ]
     },
     "metadata": {
      "needs_background": "light"
     },
     "output_type": "display_data"
    }
   ],
   "source": [
    "Bonds_10['returns'].plot(title='Treasury Bonds 10-year returns')"
   ]
  },
  {
   "cell_type": "code",
   "execution_count": 47,
   "id": "94e2b39f",
   "metadata": {},
   "outputs": [
    {
     "data": {
      "text/plain": [
       "<AxesSubplot:title={'center':'Treasury Bonds 30-year returns'}>"
      ]
     },
     "execution_count": 47,
     "metadata": {},
     "output_type": "execute_result"
    },
    {
     "data": {
      "image/png": "[encoded data removed]",
      "text/plain": [
       "<Figure size 432x288 with 1 Axes>"
      ]
     },
     "metadata": {
      "needs_background": "light"
     },
     "output_type": "display_data"
    }
   ],
   "source": [
    "Bonds_30['returns'].plot(title='Treasury Bonds 30-year returns')"
   ]
  },
  {
   "cell_type": "code",
   "execution_count": 43,
   "id": "5946273d",
   "metadata": {},
   "outputs": [
    {
     "data": {
      "text/plain": [
       "<AxesSubplot:title={'center':'Treasury Bonds 1-year Rates'}>"
      ]
     },
     "execution_count": 43,
     "metadata": {},
     "output_type": "execute_result"
    },
    {
     "data": {
      "image/png": "[encoded data removed]",
      "text/plain": [
       "<Figure size 432x288 with 1 Axes>"
      ]
     },
     "metadata": {
      "needs_background": "light"
     },
     "output_type": "display_data"
    }
   ],
   "source": [
    "Bonds_1[' value'].plot(title='Treasury Bonds 1-year Rates')"
   ]
  },
  {
   "cell_type": "code",
   "execution_count": 44,
   "id": "fc8b3413",
   "metadata": {},
   "outputs": [
    {
     "data": {
      "text/plain": [
       "<AxesSubplot:title={'center':'Treasury Bonds 10-year Rates'}>"
      ]
     },
     "execution_count": 44,
     "metadata": {},
     "output_type": "execute_result"
    },
    {
     "data": {
      "image/png": "[encoded data removed]",
      "text/plain": [
       "<Figure size 432x288 with 1 Axes>"
      ]
     },
     "metadata": {
      "needs_background": "light"
     },
     "output_type": "display_data"
    }
   ],
   "source": [
    "Bonds_10[' value'].plot(title='Treasury Bonds 10-year Rates')"
   ]
  },
  {
   "cell_type": "code",
   "execution_count": 45,
   "id": "869fde20",
   "metadata": {},
   "outputs": [
    {
     "data": {
      "text/plain": [
       "<AxesSubplot:title={'center':'Treasury Bonds 30-year Rates'}>"
      ]
     },
     "execution_count": 45,
     "metadata": {},
     "output_type": "execute_result"
    },
    {
     "data": {
      "image/png": "[encoded data removed]",
      "text/plain": [
       "<Figure size 432x288 with 1 Axes>"
      ]
     },
     "metadata": {
      "needs_background": "light"
     },
     "output_type": "display_data"
    }
   ],
   "source": [
    "Bonds_30[' value'].plot(title='Treasury Bonds 30-year Rates')"
   ]
  },
  {
   "cell_type": "code",
   "execution_count": 48,
   "id": "139e3258",
   "metadata": {},
   "outputs": [],
   "source": [
    "Bonds_1.to_csv('../Bonds1.csv',header=True,index=False)\n",
    "Bonds_10.to_csv('../Bonds10.csv',header=True,index=False)\n",
    "Bonds_30.to_csv('../Bonds30.csv',header=True,index=False)"
   ]
  }
 ],
 "metadata": {
  "kernelspec": {
   "display_name": "Python 3 (ipykernel)",
   "language": "python",
   "name": "python3"
  },
  "language_info": {
   "codemirror_mode": {
    "name": "ipython",
    "version": 3
   },
   "file_extension": ".py",
   "mimetype": "text/x-python",
   "name": "python",
   "nbconvert_exporter": "python",
   "pygments_lexer": "ipython3",
   "version": "3.9.7"
  }
 },
 "nbformat": 4,
 "nbformat_minor": 5
}
