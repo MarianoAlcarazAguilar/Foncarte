{
 "cells": [
  {
   "cell_type": "code",
   "execution_count": 1,
   "metadata": {},
   "outputs": [],
   "source": [
    "import requests\n",
    "import pandas as pd\n",
    "from bs4 import BeautifulSoup\n",
    "import re\n",
    "import unidecode\n",
    "import os"
   ]
  },
  {
   "cell_type": "code",
   "execution_count": 2,
   "metadata": {},
   "outputs": [],
   "source": [
    "soup = BeautifulSoup(open(\"../datasets/source_code_mutual_art.html\"))\n",
    "soup2 = BeautifulSoup(open(\"../datasets/artistas_seguidos_1.txt\").read())\n",
    "soup3 = BeautifulSoup(open(\"../datasets/artistas_seguidos_2.txt\").read())\n",
    "soup4 = BeautifulSoup(open(\"../datasets/artistas_seguidos_3.txt\").read())\n",
    "soup5 = BeautifulSoup(open(\"../datasets/artistas_seguidos_5.txt\").read())\n",
    "soup6 = BeautifulSoup(open(\"../datasets/artistas_seguidos_6.txt\").read())\n",
    "soup7 = BeautifulSoup(open(\"../datasets/artistas_seguidos_7.txt\").read())\n",
    "soup8 = BeautifulSoup(open(\"../datasets/paises_latam_1.txt\").read())\n",
    "soup9 = BeautifulSoup(open(\"../datasets/paises_latam_2.txt\").read())\n",
    "soup10 = BeautifulSoup(open(\"../datasets/paises_latam_3.txt\").read())\n",
    "\n",
    "soups = [soup,soup2,soup3,soup4,soup5,soup6,soup7,soup8,soup9,soup10]"
   ]
  },
  {
   "cell_type": "code",
   "execution_count": 3,
   "metadata": {},
   "outputs": [],
   "source": [
    "precios_fecha=[['precio_estimado','precio_venta','fecha','autor','casa_subasta','tipo','tecnica','dimensiones','fecha_creacion','titulo','precio_ajustado']]\n",
    "for soup in soups:\n",
    "    obras = soup.findAll(\"div\",{\"class\":\"item table-row row v2__page\"})\n",
    "    for obra in obras:\n",
    "        features=obra.findAll(lambda tag: tag.name=='div' and tag.get(\"class\")==['v2__artwork-detail__price-col'])\n",
    "        datos_obra=obra.findAll(lambda tag: tag.get(\"class\")==['v2__link--primary'])\n",
    "        tecnica = obra.findAll(\"span\", {\"itemprop\": \"artMedium\"})\n",
    "        dimensiones = obra.findAll(\"span\", {\"itemprop\": \"artDimensions\"})\n",
    "        fecha_creacion = obra.findAll(\"span\", {\"itemprop\": \"dateCreated\"})\n",
    "        titulo = obra.find(\"a\", {\"href\": re.compile(r\"/Artwork/.*\")})\n",
    "        if (len(features)==3 and len(datos_obra)==3 and len(tecnica)==1 and len(dimensiones)>=1):\n",
    "            if (len(fecha_creacion) > 0):\n",
    "                fecha_pintura = fecha_creacion[0].text\n",
    "            else: \n",
    "                fecha_pintura = None\n",
    "            precio_ajustado=re.findall(r\"([0-9]+,?([0-9]+) [A-Z]+)\",str(features[1]))\n",
    "            if (len(precio_ajustado)>1):\n",
    "                if (type(precio_ajustado[len(precio_ajustado)-2])==tuple):\n",
    "                    precio_ajustado = precio_ajustado[len(precio_ajustado)-2][0]\n",
    "                else:\n",
    "                    precio_ajustado = precio_ajustado[len(precio_ajustado)-2]\n",
    "            else: \n",
    "                precio_ajustado = None\n",
    "            precio_estimado=features[0].text\n",
    "            precio_venta=features[1].text\n",
    "            fecha=features[2].text\n",
    "            autor=datos_obra[0].text\n",
    "            casa_subasta=datos_obra[1].text\n",
    "            tipo=datos_obra[2].text\n",
    "            tecnica=tecnica[0].text\n",
    "            dimensiones=dimensiones[0].text\n",
    "            titulo = titulo.find(\"img\")['title']\n",
    "            precios_fecha.append([precio_estimado,precio_venta,fecha,autor,casa_subasta,tipo,tecnica,dimensiones,fecha_pintura,titulo,precio_ajustado])\n",
    "        else:\n",
    "            pass"
   ]
  },
  {
   "cell_type": "code",
   "execution_count": 4,
   "metadata": {},
   "outputs": [
    {
     "data": {
      "text/plain": [
       "22298"
      ]
     },
     "execution_count": 4,
     "metadata": {},
     "output_type": "execute_result"
    }
   ],
   "source": [
    "len(precios_fecha)"
   ]
  },
  {
   "cell_type": "code",
   "execution_count": 5,
   "metadata": {},
   "outputs": [],
   "source": [
    "data=pd.DataFrame(precios_fecha[1:],columns=precios_fecha[0])\n",
    "for column in data.columns:\n",
    "    data[str(column)]=data[str(column)].replace(r'\\s+', ' ', regex=True)\n",
    "    data[str(column)]=data[unidecode.unidecode(str(column))]\n",
    "data.drop_duplicates(inplace=True)"
   ]
  },
  {
   "cell_type": "code",
   "execution_count": 6,
   "metadata": {},
   "outputs": [
    {
     "data": {
      "text/plain": [
       "(20128, 11)"
      ]
     },
     "execution_count": 6,
     "metadata": {},
     "output_type": "execute_result"
    }
   ],
   "source": [
    "data.shape"
   ]
  },
  {
   "cell_type": "code",
   "execution_count": 7,
   "metadata": {},
   "outputs": [],
   "source": [
    "df = data.copy()"
   ]
  },
  {
   "cell_type": "code",
   "execution_count": 8,
   "metadata": {},
   "outputs": [],
   "source": [
    "#Normalización precio\n",
    "df['precio_venta'] = df['precio_venta'].str.split(' ')\n",
    "df['precio_venta'] = df['precio_venta'].apply(lambda x: x[1])\n",
    "df['precio_venta'] = df['precio_venta'].str.replace(re.compile(r'^[A-Za-z]+'),'0')\n",
    "df['precio_venta'] = df['precio_venta'].str.replace(',','')\n",
    "df['precio_venta'] = df['precio_venta'].astype(float)\n",
    "df['precio_estimado'] = df['precio_estimado'].str.split(' ')\n",
    "df['precio_estimado_1'] = df['precio_estimado'].apply(lambda x: x[1])\n",
    "df['precio_estimado_2'] = df['precio_estimado'].apply(lambda x: x[3])\n",
    "df['precio_estimado_1'] = df['precio_estimado_1'].str.replace(',','')\n",
    "df['precio_estimado_2'] = df['precio_estimado_2'].str.replace(',','')\n",
    "df['precio_estimado_1'] = df['precio_estimado_1'].str.replace(re.compile(r'^[A-Za-z]+'),'0')\n",
    "df['precio_estimado_2'] = df['precio_estimado_2'].str.replace(re.compile(r'^[A-Za-z]+'),'0')\n",
    "df['precio_estimado_2'] = df['precio_estimado_2'].str.replace(re.compile(r'^\\s*$'),'0')\n",
    "df['precio_estimado_1'] = df['precio_estimado_1'].astype(float)\n",
    "df['precio_estimado_2'] = df['precio_estimado_2'].astype(float)\n",
    "df['precio_ajustado'] = df['precio_ajustado'].str.replace(',','')\n",
    "df['precio_ajustado'] = df['precio_ajustado'].str.replace(' USD','')\n",
    "df['precio_ajustado'] = df['precio_ajustado'].str.replace(re.compile(r'^[A-Za-z]+'),'0')\n",
    "df['precio_ajustado'] = df['precio_ajustado'].astype(float)\n",
    "df['precio_inicio_ajustado'] = (df['precio_ajustado']/df['precio_venta'])*df['precio_estimado_1']\n",
    "df['precio_fin_ajustado'] = (df['precio_ajustado']/df['precio_venta'])*df['precio_estimado_2']\n",
    "df['precio_inicio_ajustado'] = df['precio_inicio_ajustado'].round(decimals = 1)\n",
    "df['precio_fin_ajustado'] = df['precio_fin_ajustado'].round(decimals = 1)"
   ]
  },
  {
   "cell_type": "code",
   "execution_count": 9,
   "metadata": {},
   "outputs": [],
   "source": [
    "df['precio_estimado'] = df['precio_inicio_ajustado'].astype(str) + ' - ' + df['precio_fin_ajustado'].astype(str)"
   ]
  },
  {
   "cell_type": "code",
   "execution_count": 11,
   "metadata": {},
   "outputs": [],
   "source": [
    "df.drop(columns=['precio_estimado_1','precio_estimado_2','precio_inicio_ajustado','precio_fin_ajustado'],inplace=True)"
   ]
  },
  {
   "cell_type": "code",
   "execution_count": 12,
   "metadata": {},
   "outputs": [],
   "source": [
    "data.to_csv('../datasets/data_mutualart_completo.csv')\n",
    "df.to_csv('../datasets/data_mutualart_completo_ajustado.csv')"
   ]
  }
 ],
 "metadata": {
  "kernelspec": {
   "display_name": "Python 3 (ipykernel)",
   "language": "python",
   "name": "python3"
  },
  "language_info": {
   "codemirror_mode": {
    "name": "ipython",
    "version": 3
   },
   "file_extension": ".py",
   "mimetype": "text/x-python",
   "name": "python",
   "nbconvert_exporter": "python",
   "pygments_lexer": "ipython3",
   "version": "3.9.12"
  },
  "vscode": {
   "interpreter": {
    "hash": "f4cc73c74b0038f3a3bde7fe7f1677e32b7f268a2a617e782a896b9d666a9251"
   }
  }
 },
 "nbformat": 4,
 "nbformat_minor": 2
}
