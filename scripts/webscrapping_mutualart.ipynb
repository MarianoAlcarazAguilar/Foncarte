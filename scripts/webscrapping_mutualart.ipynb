{
 "cells": [
  {
   "cell_type": "code",
   "execution_count": 239,
   "metadata": {},
   "outputs": [],
   "source": [
    "import requests\n",
    "import pandas as pd\n",
    "from bs4 import BeautifulSoup\n",
    "import re"
   ]
  },
  {
   "cell_type": "code",
   "execution_count": 241,
   "metadata": {},
   "outputs": [],
   "source": [
    "soup = BeautifulSoup(open(\"artistas_seguidos_1.txt\").read())"
   ]
  },
  {
   "cell_type": "code",
   "execution_count": 244,
   "metadata": {},
   "outputs": [],
   "source": [
    "obras = soup.findAll(\"div\",{\"class\":\"item table-row row v2__page\"})\n",
    "precios_fecha=[['precio estimado','precio_venta','fecha','autor','casa subasta','tipo','tecnica','dimensiones']]\n",
    "for obra in obras:\n",
    "    features=obra.findAll(lambda tag: tag.name=='div' and tag.get(\"class\")==['v2__artwork-detail__price-col'])\n",
    "    datos_obra=obra.findAll(lambda tag: tag.get(\"class\")==['v2__link--primary'])\n",
    "    tecnica = obra.findAll(\"span\", {\"itemprop\": \"artMedium\"})\n",
    "    dimensiones = obra.findAll(\"span\", {\"itemprop\": \"artDimensions\"})\n",
    "    if (len(features)==3 and len(datos_obra)==3 and len(tecnica)==1 and len(dimensiones)>=1):\n",
    "        precio_estimado=features[0].text\n",
    "        precio_venta=features[1].text\n",
    "        fecha=features[2].text\n",
    "        autor=datos_obra[0].text\n",
    "        casa_subasta=datos_obra[1].text\n",
    "        tipo=datos_obra[2].text\n",
    "        tecnica=tecnica[0].text\n",
    "        dimensiones=dimensiones[0].text\n",
    "        precios_fecha.append([precio_estimado,precio_venta,fecha,autor,casa_subasta,tipo,tecnica,dimensiones])\n",
    "    else:\n",
    "        pass"
   ]
  },
  {
   "cell_type": "code",
   "execution_count": 245,
   "metadata": {},
   "outputs": [
    {
     "data": {
      "text/plain": [
       "1855"
      ]
     },
     "execution_count": 245,
     "metadata": {},
     "output_type": "execute_result"
    }
   ],
   "source": [
    "len(precios_fecha)"
   ]
  },
  {
   "cell_type": "code",
   "execution_count": 250,
   "metadata": {},
   "outputs": [],
   "source": [
    "data=pd.DataFrame(precios_fecha[1:],columns=precios_fecha[0])"
   ]
  },
  {
   "cell_type": "code",
   "execution_count": 252,
   "metadata": {},
   "outputs": [],
   "source": [
    "data.to_excel('data_mutualart.xlsx')"
   ]
  }
 ],
 "metadata": {
  "kernelspec": {
   "display_name": "Python 3.9.12 ('base')",
   "language": "python",
   "name": "python3"
  },
  "language_info": {
   "codemirror_mode": {
    "name": "ipython",
    "version": 3
   },
   "file_extension": ".py",
   "mimetype": "text/x-python",
   "name": "python",
   "nbconvert_exporter": "python",
   "pygments_lexer": "ipython3",
   "version": "3.9.12"
  },
  "orig_nbformat": 4,
  "vscode": {
   "interpreter": {
    "hash": "f4cc73c74b0038f3a3bde7fe7f1677e32b7f268a2a617e782a896b9d666a9251"
   }
  }
 },
 "nbformat": 4,
 "nbformat_minor": 2
}
